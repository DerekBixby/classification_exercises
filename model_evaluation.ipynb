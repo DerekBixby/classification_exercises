{
 "cells": [
  {
   "cell_type": "markdown",
   "id": "89a06a1b",
   "metadata": {},
   "source": [
    "## Model Evaluation Exercises"
   ]
  },
  {
   "cell_type": "markdown",
   "id": "67b1e49f",
   "metadata": {},
   "source": [
    "1. Create file"
   ]
  },
  {
   "cell_type": "code",
   "execution_count": 4,
   "id": "785fbc42",
   "metadata": {},
   "outputs": [],
   "source": [
    "import pandas as pd\n",
    "\n",
    "from sklearn.metrics import precision_score\n",
    "from sklearn.metrics import accuracy_score\n",
    "from sklearn.metrics import recall_score\n",
    "from sklearn.metrics import classification_report"
   ]
  },
  {
   "cell_type": "markdown",
   "id": "f4ba3050",
   "metadata": {},
   "source": [
    "2. Given the following confusion matrix, evaluate (by hand) the model's performance."
   ]
  },
  {
   "cell_type": "markdown",
   "id": "c28138ec",
   "metadata": {},
   "source": [
    "a. In the context of this problem, what is a false positive?"
   ]
  },
  {
   "cell_type": "markdown",
   "id": "559d94f2",
   "metadata": {},
   "source": [
    "Predicting an animal and it is not that animal"
   ]
  },
  {
   "cell_type": "markdown",
   "id": "76a76c65",
   "metadata": {},
   "source": [
    "b. In the context of this problem, what is a false negative?"
   ]
  },
  {
   "cell_type": "markdown",
   "id": "b8795845",
   "metadata": {},
   "source": [
    "not predicting an animal when it is that animal"
   ]
  },
  {
   "cell_type": "markdown",
   "id": "443d0868",
   "metadata": {},
   "source": [
    "c. How would you describe this model?"
   ]
  },
  {
   "cell_type": "markdown",
   "id": "a6b67124",
   "metadata": {},
   "source": [
    "better at predicting dogs than cats"
   ]
  },
  {
   "cell_type": "markdown",
   "id": "9e892471",
   "metadata": {},
   "source": [
    "3. You are working as a datascientist working for Codeup Cody Creator (C3 for short), a rubber-duck manufacturing plant.\n",
    "\n",
    "Unfortunately, some of the rubber ducks that are produced will have defects. Your team has built several models that try to predict those defects, and the data from their predictions can be found here.\n",
    "\n",
    "Use the predictions dataset and pandas to help answer the following questions:"
   ]
  },
  {
   "cell_type": "markdown",
   "id": "b48bcf58",
   "metadata": {},
   "source": [
    "a. An internal team wants to investigate the cause of the manufacturing defects. They tell you that they want to identify as many of the ducks that have a defect as possible. Which evaluation metric would be appropriate here? Which model would be the best fit for this use case?"
   ]
  },
  {
   "cell_type": "markdown",
   "id": "ca0038e8",
   "metadata": {},
   "source": [
    "Metric: Recall, Model: Binary Classifier"
   ]
  },
  {
   "cell_type": "markdown",
   "id": "8562dd09",
   "metadata": {},
   "source": [
    "b. Recently several stories in the local news have come out highlighting customers who received a rubber duck with a defect, and portraying C3 in a bad light. The PR team has decided to launch a program that gives customers with a defective duck a vacation to Hawaii. They need you to predict which ducks will have defects, but tell you the really don't want to accidentally give out a vacation package when the duck really doesn't have a defect. Which evaluation metric would be appropriate here? Which model would be the best fit for this use case?"
   ]
  },
  {
   "cell_type": "code",
   "execution_count": null,
   "id": "52b19adb",
   "metadata": {},
   "outputs": [],
   "source": [
    "Metric: Precision, Model: "
   ]
  },
  {
   "cell_type": "markdown",
   "id": "a36ed4a2",
   "metadata": {},
   "source": [
    "4. You are working as a data scientist for Gives You Paws ™, a subscription based service that shows you cute pictures of dogs or cats (or both for an additional fee).\n",
    "\n",
    "At Gives You Paws, anyone can upload pictures of their cats or dogs. The photos are then put through a two step process. First an automated algorithm tags pictures as either a cat or a dog (Phase I). Next, the photos that have been initially identified are put through another round of review, possibly with some human oversight, before being presented to the users (Phase II).\n",
    "\n",
    "Several models have already been developed with the data, and you can find their results here.\n",
    "\n",
    "Given this dataset, use pandas to create a baseline model (i.e. a model that just predicts the most common class) and answer the following questions:"
   ]
  },
  {
   "cell_type": "code",
   "execution_count": 3,
   "id": "1cd25d68",
   "metadata": {
    "scrolled": true
   },
   "outputs": [
    {
     "data": {
      "text/html": [
       "<div>\n",
       "<style scoped>\n",
       "    .dataframe tbody tr th:only-of-type {\n",
       "        vertical-align: middle;\n",
       "    }\n",
       "\n",
       "    .dataframe tbody tr th {\n",
       "        vertical-align: top;\n",
       "    }\n",
       "\n",
       "    .dataframe thead th {\n",
       "        text-align: right;\n",
       "    }\n",
       "</style>\n",
       "<table border=\"1\" class=\"dataframe\">\n",
       "  <thead>\n",
       "    <tr style=\"text-align: right;\">\n",
       "      <th></th>\n",
       "      <th>actual</th>\n",
       "      <th>model1</th>\n",
       "      <th>model2</th>\n",
       "      <th>model3</th>\n",
       "    </tr>\n",
       "  </thead>\n",
       "  <tbody>\n",
       "    <tr>\n",
       "      <th>0</th>\n",
       "      <td>No Defect</td>\n",
       "      <td>No Defect</td>\n",
       "      <td>Defect</td>\n",
       "      <td>No Defect</td>\n",
       "    </tr>\n",
       "    <tr>\n",
       "      <th>1</th>\n",
       "      <td>No Defect</td>\n",
       "      <td>No Defect</td>\n",
       "      <td>Defect</td>\n",
       "      <td>Defect</td>\n",
       "    </tr>\n",
       "    <tr>\n",
       "      <th>2</th>\n",
       "      <td>No Defect</td>\n",
       "      <td>No Defect</td>\n",
       "      <td>Defect</td>\n",
       "      <td>No Defect</td>\n",
       "    </tr>\n",
       "    <tr>\n",
       "      <th>3</th>\n",
       "      <td>No Defect</td>\n",
       "      <td>Defect</td>\n",
       "      <td>Defect</td>\n",
       "      <td>Defect</td>\n",
       "    </tr>\n",
       "    <tr>\n",
       "      <th>4</th>\n",
       "      <td>No Defect</td>\n",
       "      <td>No Defect</td>\n",
       "      <td>Defect</td>\n",
       "      <td>No Defect</td>\n",
       "    </tr>\n",
       "    <tr>\n",
       "      <th>...</th>\n",
       "      <td>...</td>\n",
       "      <td>...</td>\n",
       "      <td>...</td>\n",
       "      <td>...</td>\n",
       "    </tr>\n",
       "    <tr>\n",
       "      <th>195</th>\n",
       "      <td>No Defect</td>\n",
       "      <td>No Defect</td>\n",
       "      <td>Defect</td>\n",
       "      <td>Defect</td>\n",
       "    </tr>\n",
       "    <tr>\n",
       "      <th>196</th>\n",
       "      <td>Defect</td>\n",
       "      <td>Defect</td>\n",
       "      <td>No Defect</td>\n",
       "      <td>No Defect</td>\n",
       "    </tr>\n",
       "    <tr>\n",
       "      <th>197</th>\n",
       "      <td>No Defect</td>\n",
       "      <td>No Defect</td>\n",
       "      <td>No Defect</td>\n",
       "      <td>No Defect</td>\n",
       "    </tr>\n",
       "    <tr>\n",
       "      <th>198</th>\n",
       "      <td>No Defect</td>\n",
       "      <td>No Defect</td>\n",
       "      <td>Defect</td>\n",
       "      <td>Defect</td>\n",
       "    </tr>\n",
       "    <tr>\n",
       "      <th>199</th>\n",
       "      <td>No Defect</td>\n",
       "      <td>No Defect</td>\n",
       "      <td>No Defect</td>\n",
       "      <td>Defect</td>\n",
       "    </tr>\n",
       "  </tbody>\n",
       "</table>\n",
       "<p>200 rows × 4 columns</p>\n",
       "</div>"
      ],
      "text/plain": [
       "        actual     model1     model2     model3\n",
       "0    No Defect  No Defect     Defect  No Defect\n",
       "1    No Defect  No Defect     Defect     Defect\n",
       "2    No Defect  No Defect     Defect  No Defect\n",
       "3    No Defect     Defect     Defect     Defect\n",
       "4    No Defect  No Defect     Defect  No Defect\n",
       "..         ...        ...        ...        ...\n",
       "195  No Defect  No Defect     Defect     Defect\n",
       "196     Defect     Defect  No Defect  No Defect\n",
       "197  No Defect  No Defect  No Defect  No Defect\n",
       "198  No Defect  No Defect     Defect     Defect\n",
       "199  No Defect  No Defect  No Defect     Defect\n",
       "\n",
       "[200 rows x 4 columns]"
      ]
     },
     "execution_count": 3,
     "metadata": {},
     "output_type": "execute_result"
    }
   ],
   "source": [
    "paws_df = pd.read_csv('/Users/derekbixby/codeup-data-science/classification_exercises/c3.csv')\n",
    "paws_df"
   ]
  },
  {
   "cell_type": "markdown",
   "id": "d6c44d89",
   "metadata": {},
   "source": [
    "a. In terms of accuracy, how do the various models compare to the baseline model? Are any of the models better than the baseline?"
   ]
  },
  {
   "cell_type": "code",
   "execution_count": 11,
   "id": "cc5275c1",
   "metadata": {},
   "outputs": [
    {
     "data": {
      "text/html": [
       "<div>\n",
       "<style scoped>\n",
       "    .dataframe tbody tr th:only-of-type {\n",
       "        vertical-align: middle;\n",
       "    }\n",
       "\n",
       "    .dataframe tbody tr th {\n",
       "        vertical-align: top;\n",
       "    }\n",
       "\n",
       "    .dataframe thead th {\n",
       "        text-align: right;\n",
       "    }\n",
       "</style>\n",
       "<table border=\"1\" class=\"dataframe\">\n",
       "  <thead>\n",
       "    <tr style=\"text-align: right;\">\n",
       "      <th></th>\n",
       "      <th>actual</th>\n",
       "      <th>model1</th>\n",
       "      <th>model2</th>\n",
       "      <th>model3</th>\n",
       "      <th>baseline_prediction</th>\n",
       "    </tr>\n",
       "  </thead>\n",
       "  <tbody>\n",
       "    <tr>\n",
       "      <th>0</th>\n",
       "      <td>No Defect</td>\n",
       "      <td>No Defect</td>\n",
       "      <td>Defect</td>\n",
       "      <td>No Defect</td>\n",
       "      <td>No Defect</td>\n",
       "    </tr>\n",
       "    <tr>\n",
       "      <th>1</th>\n",
       "      <td>No Defect</td>\n",
       "      <td>No Defect</td>\n",
       "      <td>Defect</td>\n",
       "      <td>Defect</td>\n",
       "      <td>No Defect</td>\n",
       "    </tr>\n",
       "    <tr>\n",
       "      <th>2</th>\n",
       "      <td>No Defect</td>\n",
       "      <td>No Defect</td>\n",
       "      <td>Defect</td>\n",
       "      <td>No Defect</td>\n",
       "      <td>No Defect</td>\n",
       "    </tr>\n",
       "    <tr>\n",
       "      <th>3</th>\n",
       "      <td>No Defect</td>\n",
       "      <td>Defect</td>\n",
       "      <td>Defect</td>\n",
       "      <td>Defect</td>\n",
       "      <td>No Defect</td>\n",
       "    </tr>\n",
       "    <tr>\n",
       "      <th>4</th>\n",
       "      <td>No Defect</td>\n",
       "      <td>No Defect</td>\n",
       "      <td>Defect</td>\n",
       "      <td>No Defect</td>\n",
       "      <td>No Defect</td>\n",
       "    </tr>\n",
       "    <tr>\n",
       "      <th>...</th>\n",
       "      <td>...</td>\n",
       "      <td>...</td>\n",
       "      <td>...</td>\n",
       "      <td>...</td>\n",
       "      <td>...</td>\n",
       "    </tr>\n",
       "    <tr>\n",
       "      <th>195</th>\n",
       "      <td>No Defect</td>\n",
       "      <td>No Defect</td>\n",
       "      <td>Defect</td>\n",
       "      <td>Defect</td>\n",
       "      <td>No Defect</td>\n",
       "    </tr>\n",
       "    <tr>\n",
       "      <th>196</th>\n",
       "      <td>Defect</td>\n",
       "      <td>Defect</td>\n",
       "      <td>No Defect</td>\n",
       "      <td>No Defect</td>\n",
       "      <td>No Defect</td>\n",
       "    </tr>\n",
       "    <tr>\n",
       "      <th>197</th>\n",
       "      <td>No Defect</td>\n",
       "      <td>No Defect</td>\n",
       "      <td>No Defect</td>\n",
       "      <td>No Defect</td>\n",
       "      <td>No Defect</td>\n",
       "    </tr>\n",
       "    <tr>\n",
       "      <th>198</th>\n",
       "      <td>No Defect</td>\n",
       "      <td>No Defect</td>\n",
       "      <td>Defect</td>\n",
       "      <td>Defect</td>\n",
       "      <td>No Defect</td>\n",
       "    </tr>\n",
       "    <tr>\n",
       "      <th>199</th>\n",
       "      <td>No Defect</td>\n",
       "      <td>No Defect</td>\n",
       "      <td>No Defect</td>\n",
       "      <td>Defect</td>\n",
       "      <td>No Defect</td>\n",
       "    </tr>\n",
       "  </tbody>\n",
       "</table>\n",
       "<p>200 rows × 5 columns</p>\n",
       "</div>"
      ],
      "text/plain": [
       "        actual     model1     model2     model3 baseline_prediction\n",
       "0    No Defect  No Defect     Defect  No Defect           No Defect\n",
       "1    No Defect  No Defect     Defect     Defect           No Defect\n",
       "2    No Defect  No Defect     Defect  No Defect           No Defect\n",
       "3    No Defect     Defect     Defect     Defect           No Defect\n",
       "4    No Defect  No Defect     Defect  No Defect           No Defect\n",
       "..         ...        ...        ...        ...                 ...\n",
       "195  No Defect  No Defect     Defect     Defect           No Defect\n",
       "196     Defect     Defect  No Defect  No Defect           No Defect\n",
       "197  No Defect  No Defect  No Defect  No Defect           No Defect\n",
       "198  No Defect  No Defect     Defect     Defect           No Defect\n",
       "199  No Defect  No Defect  No Defect     Defect           No Defect\n",
       "\n",
       "[200 rows x 5 columns]"
      ]
     },
     "execution_count": 11,
     "metadata": {},
     "output_type": "execute_result"
    }
   ],
   "source": [
    "paws_df['baseline_prediction'] = 'No Defect'\n",
    "paws_df"
   ]
  },
  {
   "cell_type": "code",
   "execution_count": 6,
   "id": "64d0dc31",
   "metadata": {},
   "outputs": [
    {
     "data": {
      "text/plain": [
       "0.95"
      ]
     },
     "execution_count": 6,
     "metadata": {},
     "output_type": "execute_result"
    }
   ],
   "source": [
    "(paws_df.actual == paws_df.model1).mean()"
   ]
  },
  {
   "cell_type": "code",
   "execution_count": 7,
   "id": "ec9bae5d",
   "metadata": {},
   "outputs": [
    {
     "data": {
      "text/plain": [
       "0.56"
      ]
     },
     "execution_count": 7,
     "metadata": {},
     "output_type": "execute_result"
    }
   ],
   "source": [
    "(paws_df.actual == paws_df.model2).mean()"
   ]
  },
  {
   "cell_type": "code",
   "execution_count": 12,
   "id": "581551d2",
   "metadata": {},
   "outputs": [
    {
     "data": {
      "text/plain": [
       "0.92"
      ]
     },
     "execution_count": 12,
     "metadata": {},
     "output_type": "execute_result"
    }
   ],
   "source": [
    "(paws_df.actual == paws_df.baseline_prediction).mean()"
   ]
  },
  {
   "cell_type": "code",
   "execution_count": 10,
   "id": "25c74c2f",
   "metadata": {},
   "outputs": [
    {
     "data": {
      "text/plain": [
       "0.555"
      ]
     },
     "execution_count": 10,
     "metadata": {},
     "output_type": "execute_result"
    }
   ],
   "source": [
    "(paws_df.actual == paws_df.model3).mean()"
   ]
  },
  {
   "cell_type": "markdown",
   "id": "c0886579",
   "metadata": {},
   "source": [
    "model 1 is particularly accurate and slightly superior to baseline model"
   ]
  },
  {
   "cell_type": "markdown",
   "id": "9eb11785",
   "metadata": {},
   "source": [
    "b. Suppose you are working on a team that solely deals with dog pictures. Which of these models would you recommend?"
   ]
  },
  {
   "cell_type": "markdown",
   "id": "91211d30",
   "metadata": {},
   "source": [
    "model 1"
   ]
  },
  {
   "cell_type": "markdown",
   "id": "1d796989",
   "metadata": {},
   "source": [
    "c. Suppose you are working on a team that solely deals with cat pictures. Which of these models would you recommend?"
   ]
  },
  {
   "cell_type": "markdown",
   "id": "a611ccd1",
   "metadata": {},
   "source": [
    "model 1"
   ]
  },
  {
   "cell_type": "markdown",
   "id": "06290b2e",
   "metadata": {},
   "source": [
    "5. Follow the links below to read the documentation about each function, then apply those functions to the data from the previous problem."
   ]
  },
  {
   "cell_type": "markdown",
   "id": "36614bd8",
   "metadata": {},
   "source": [
    "a. sklearn.metrics.accuracy_score"
   ]
  },
  {
   "cell_type": "code",
   "execution_count": 13,
   "id": "e5b9bd94",
   "metadata": {},
   "outputs": [
    {
     "data": {
      "text/plain": [
       "0.95"
      ]
     },
     "execution_count": 13,
     "metadata": {},
     "output_type": "execute_result"
    }
   ],
   "source": [
    "y_actual = paws_df.actual\n",
    "y_pred1 = paws_df.model1\n",
    "\n",
    "accuracy_score(y_actual, y_pred1)"
   ]
  },
  {
   "cell_type": "code",
   "execution_count": 14,
   "id": "eea89e8d",
   "metadata": {},
   "outputs": [
    {
     "data": {
      "text/plain": [
       "0.56"
      ]
     },
     "execution_count": 14,
     "metadata": {},
     "output_type": "execute_result"
    }
   ],
   "source": [
    "y_actual = paws_df.actual\n",
    "y_pred2 = paws_df.model2\n",
    "\n",
    "accuracy_score(y_actual, y_pred2)"
   ]
  },
  {
   "cell_type": "code",
   "execution_count": 15,
   "id": "68b2acdd",
   "metadata": {},
   "outputs": [
    {
     "data": {
      "text/plain": [
       "0.555"
      ]
     },
     "execution_count": 15,
     "metadata": {},
     "output_type": "execute_result"
    }
   ],
   "source": [
    "y_actual = paws_df.actual\n",
    "y_pred3 = paws_df.model3\n",
    "\n",
    "accuracy_score(y_actual, y_pred3)"
   ]
  },
  {
   "cell_type": "markdown",
   "id": "4a93a5ec",
   "metadata": {},
   "source": [
    "b. sklearn.metrics.precision_score"
   ]
  },
  {
   "cell_type": "code",
   "execution_count": 16,
   "id": "27b47188",
   "metadata": {},
   "outputs": [
    {
     "data": {
      "text/plain": [
       "array([0.95789474, 0.8       ])"
      ]
     },
     "execution_count": 16,
     "metadata": {},
     "output_type": "execute_result"
    }
   ],
   "source": [
    "precision_score(y_actual, y_pred1,\n",
    "               labels=['No Defect', 'Defect'],\n",
    "               average= None)"
   ]
  },
  {
   "cell_type": "code",
   "execution_count": 17,
   "id": "428e133b",
   "metadata": {},
   "outputs": [
    {
     "data": {
      "text/plain": [
       "array([0.93636364, 0.1       ])"
      ]
     },
     "execution_count": 17,
     "metadata": {},
     "output_type": "execute_result"
    }
   ],
   "source": [
    "precision_score(y_actual, y_pred2,\n",
    "               labels=['No Defect', 'Defect'],\n",
    "               average= None)"
   ]
  },
  {
   "cell_type": "code",
   "execution_count": 18,
   "id": "f6cc6e33",
   "metadata": {},
   "outputs": [
    {
     "data": {
      "text/plain": [
       "array([0.97029703, 0.13131313])"
      ]
     },
     "execution_count": 18,
     "metadata": {},
     "output_type": "execute_result"
    }
   ],
   "source": [
    "precision_score(y_actual, y_pred3,\n",
    "               labels=['No Defect', 'Defect'],\n",
    "               average= None)"
   ]
  },
  {
   "cell_type": "markdown",
   "id": "d2566c48",
   "metadata": {},
   "source": [
    "c. sklearn.metrics.recall_score"
   ]
  },
  {
   "cell_type": "code",
   "execution_count": 19,
   "id": "cb212b8d",
   "metadata": {},
   "outputs": [
    {
     "data": {
      "text/plain": [
       "array([0.98913043, 0.5       ])"
      ]
     },
     "execution_count": 19,
     "metadata": {},
     "output_type": "execute_result"
    }
   ],
   "source": [
    "recall_score(y_actual, y_pred1,\n",
    "            labels=['No Defect', 'Defect'],\n",
    "             average= None)"
   ]
  },
  {
   "cell_type": "code",
   "execution_count": 20,
   "id": "af545eca",
   "metadata": {},
   "outputs": [
    {
     "data": {
      "text/plain": [
       "array([0.55978261, 0.5625    ])"
      ]
     },
     "execution_count": 20,
     "metadata": {},
     "output_type": "execute_result"
    }
   ],
   "source": [
    "recall_score(y_actual, y_pred2,\n",
    "            labels=['No Defect', 'Defect'],\n",
    "             average= None)"
   ]
  },
  {
   "cell_type": "code",
   "execution_count": 21,
   "id": "a64ac4ec",
   "metadata": {},
   "outputs": [
    {
     "data": {
      "text/plain": [
       "array([0.5326087, 0.8125   ])"
      ]
     },
     "execution_count": 21,
     "metadata": {},
     "output_type": "execute_result"
    }
   ],
   "source": [
    "recall_score(y_actual, y_pred3,\n",
    "            labels=['No Defect', 'Defect'],\n",
    "             average= None)"
   ]
  },
  {
   "cell_type": "markdown",
   "id": "b022f685",
   "metadata": {},
   "source": [
    "d. sklearn.metrics.classification_report"
   ]
  },
  {
   "cell_type": "code",
   "execution_count": 22,
   "id": "8a5d65f8",
   "metadata": {},
   "outputs": [
    {
     "name": "stdout",
     "output_type": "stream",
     "text": [
      "              precision    recall  f1-score   support\n",
      "\n",
      "   No Defect       0.96      0.99      0.97       184\n",
      "      Defect       0.80      0.50      0.62        16\n",
      "\n",
      "    accuracy                           0.95       200\n",
      "   macro avg       0.88      0.74      0.79       200\n",
      "weighted avg       0.95      0.95      0.94       200\n",
      "\n"
     ]
    }
   ],
   "source": [
    "print(classification_report(y_actual, y_pred1, labels=['No Defect', 'Defect']))"
   ]
  },
  {
   "cell_type": "code",
   "execution_count": 23,
   "id": "0ca0e5b3",
   "metadata": {},
   "outputs": [
    {
     "name": "stdout",
     "output_type": "stream",
     "text": [
      "              precision    recall  f1-score   support\n",
      "\n",
      "   No Defect       0.94      0.56      0.70       184\n",
      "      Defect       0.10      0.56      0.17        16\n",
      "\n",
      "    accuracy                           0.56       200\n",
      "   macro avg       0.52      0.56      0.44       200\n",
      "weighted avg       0.87      0.56      0.66       200\n",
      "\n"
     ]
    }
   ],
   "source": [
    "print(classification_report(y_actual, y_pred2, labels=['No Defect', 'Defect']))"
   ]
  },
  {
   "cell_type": "code",
   "execution_count": 24,
   "id": "007ec984",
   "metadata": {},
   "outputs": [
    {
     "name": "stdout",
     "output_type": "stream",
     "text": [
      "              precision    recall  f1-score   support\n",
      "\n",
      "   No Defect       0.97      0.53      0.69       184\n",
      "      Defect       0.13      0.81      0.23        16\n",
      "\n",
      "    accuracy                           0.56       200\n",
      "   macro avg       0.55      0.67      0.46       200\n",
      "weighted avg       0.90      0.56      0.65       200\n",
      "\n"
     ]
    }
   ],
   "source": [
    "print(classification_report(y_actual, y_pred3, labels=['No Defect', 'Defect']))"
   ]
  },
  {
   "cell_type": "code",
   "execution_count": null,
   "id": "95d827ba",
   "metadata": {},
   "outputs": [],
   "source": []
  }
 ],
 "metadata": {
  "kernelspec": {
   "display_name": "Python 3 (ipykernel)",
   "language": "python",
   "name": "python3"
  },
  "language_info": {
   "codemirror_mode": {
    "name": "ipython",
    "version": 3
   },
   "file_extension": ".py",
   "mimetype": "text/x-python",
   "name": "python",
   "nbconvert_exporter": "python",
   "pygments_lexer": "ipython3",
   "version": "3.10.9"
  }
 },
 "nbformat": 4,
 "nbformat_minor": 5
}
